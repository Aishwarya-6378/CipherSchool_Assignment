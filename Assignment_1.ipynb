{
 "cells": [
  {
   "cell_type": "code",
   "execution_count": 12,
   "metadata": {},
   "outputs": [
    {
     "name": "stdout",
     "output_type": "stream",
     "text": [
      "Enter a integer: 5\n",
      "2\n",
      "3\n",
      "4\n",
      "3\n",
      "2\n",
      "[2, 3, 4, 3, 2]\n",
      "[2, 3, 4]\n"
     ]
    }
   ],
   "source": [
    "# Question 1\n",
    "lst = []\n",
    "n = int(input(\"Enter a integer: \"))\n",
    "for i in range(0, n):\n",
    "    element = int(input())\n",
    "    lst.append(element)\n",
    "print(lst)\n",
    "lst = list(dict.fromkeys(lst))\n",
    "print(lst)"
   ]
  },
  {
   "cell_type": "code",
   "execution_count": 2,
   "metadata": {},
   "outputs": [
    {
     "name": "stdout",
     "output_type": "stream",
     "text": [
      "9\n",
      "50\n",
      "2\n",
      "9\n"
     ]
    }
   ],
   "source": [
    "# Question 2\n",
    "t = (2,3,4,5,6,8,6,7,9)\n",
    "print(len(t))\n",
    "print(sum(t))\n",
    "print(min(t))\n",
    "print(max(t))"
   ]
  },
  {
   "cell_type": "code",
   "execution_count": 7,
   "metadata": {},
   "outputs": [
    {
     "name": "stdout",
     "output_type": "stream",
     "text": [
      "Enter a number: 6\n",
      "0\n"
     ]
    }
   ],
   "source": [
    "# Question 4\n",
    "num = int(input(\"Enter a number: \"))\n",
    "print(num % 2)"
   ]
  },
  {
   "cell_type": "code",
   "execution_count": 8,
   "metadata": {},
   "outputs": [
    {
     "name": "stdout",
     "output_type": "stream",
     "text": [
      "[1, 2, 3, 4, 5]\n",
      "[3, 6, 7, 8, 9]\n",
      "[1, 2, 3, 3, 4, 5, 6, 7, 8, 9]\n"
     ]
    }
   ],
   "source": [
    "# Question 5\n",
    "list_1 = [1,2,3,4,5]\n",
    "print(list_1)\n",
    "list_2 = [3,6,7,8,9]\n",
    "print(list_2)\n",
    "print(sorted(list_1+list_2))"
   ]
  },
  {
   "cell_type": "code",
   "execution_count": null,
   "metadata": {},
   "outputs": [],
   "source": []
  },
  {
   "cell_type": "code",
   "execution_count": 15,
   "metadata": {},
   "outputs": [
    {
     "name": "stdout",
     "output_type": "stream",
     "text": [
      "num: 13\n",
      "i: 1\n",
      "15\n"
     ]
    }
   ],
   "source": [
    "# question 3\n",
    "\n",
    "num = int(input(\"num: \"))\n",
    "i = int(input(\"i: \"))\n",
    "magic_num = i << 1\n",
    "original_num = num |  magic_num\n",
    "print(original_num)"
   ]
  },
  {
   "cell_type": "code",
   "execution_count": null,
   "metadata": {},
   "outputs": [],
   "source": []
  }
 ],
 "metadata": {
  "kernelspec": {
   "display_name": "Python 3",
   "language": "python",
   "name": "python3"
  },
  "language_info": {
   "codemirror_mode": {
    "name": "ipython",
    "version": 3
   },
   "file_extension": ".py",
   "mimetype": "text/x-python",
   "name": "python",
   "nbconvert_exporter": "python",
   "pygments_lexer": "ipython3",
   "version": "3.7.4"
  }
 },
 "nbformat": 4,
 "nbformat_minor": 2
}
